{
 "cells": [
  {
   "cell_type": "code",
   "execution_count": null,
   "id": "5ea0f562-08d8-44a0-bc0c-dc34f930e7ad",
   "metadata": {},
   "outputs": [],
   "source": [
    "#cleaning the data set\n",
    "## Dataset from: https://www.kaggle.com/datasets/zaheenhamidani/ultimate-spotify-tracks-db\n",
    "\n",
    "import pandas as pd\n",
    "df = pd.read_csv(\"/home/guna/Downloads/SpotifyFeatures.csv\")\n",
    "df=df.drop(columns=['track_id','duration_ms','key','mode','time_signature'])\n",
    "df=df.dropna()\n",
    "df=df.reset_index(drop=True)"
   ]
  },
  {
   "cell_type": "code",
   "execution_count": null,
   "id": "b776ea71-a730-4281-9adf-fb48d04bc972",
   "metadata": {},
   "outputs": [],
   "source": [
    "df.info()"
   ]
  },
  {
   "cell_type": "code",
   "execution_count": 99,
   "id": "95954354-b5df-406c-85b5-68a440180209",
   "metadata": {},
   "outputs": [
    {
     "data": {
      "text/plain": [
       "(232724, 13)"
      ]
     },
     "execution_count": 99,
     "metadata": {},
     "output_type": "execute_result"
    }
   ],
   "source": [
    "df.shape"
   ]
  },
  {
   "cell_type": "code",
   "execution_count": 30,
   "id": "fe6485fe-7dc2-4298-a9e1-d01112aa5297",
   "metadata": {},
   "outputs": [
    {
     "data": {
      "text/html": [
       "<div>\n",
       "<style scoped>\n",
       "    .dataframe tbody tr th:only-of-type {\n",
       "        vertical-align: middle;\n",
       "    }\n",
       "\n",
       "    .dataframe tbody tr th {\n",
       "        vertical-align: top;\n",
       "    }\n",
       "\n",
       "    .dataframe thead th {\n",
       "        text-align: right;\n",
       "    }\n",
       "</style>\n",
       "<table border=\"1\" class=\"dataframe\">\n",
       "  <thead>\n",
       "    <tr style=\"text-align: right;\">\n",
       "      <th></th>\n",
       "      <th>genre</th>\n",
       "      <th>artist_name</th>\n",
       "      <th>track_name</th>\n",
       "      <th>popularity</th>\n",
       "      <th>acousticness</th>\n",
       "      <th>danceability</th>\n",
       "      <th>energy</th>\n",
       "      <th>instrumentalness</th>\n",
       "      <th>liveness</th>\n",
       "      <th>loudness</th>\n",
       "      <th>speechiness</th>\n",
       "      <th>tempo</th>\n",
       "      <th>valence</th>\n",
       "    </tr>\n",
       "  </thead>\n",
       "  <tbody>\n",
       "    <tr>\n",
       "      <th>0</th>\n",
       "      <td>Movie</td>\n",
       "      <td>Henri Salvador</td>\n",
       "      <td>C'est beau de faire un Show</td>\n",
       "      <td>0</td>\n",
       "      <td>0.611</td>\n",
       "      <td>0.389</td>\n",
       "      <td>0.910</td>\n",
       "      <td>0.000</td>\n",
       "      <td>0.3460</td>\n",
       "      <td>-1.828</td>\n",
       "      <td>0.0525</td>\n",
       "      <td>166.969</td>\n",
       "      <td>0.814</td>\n",
       "    </tr>\n",
       "    <tr>\n",
       "      <th>1</th>\n",
       "      <td>Movie</td>\n",
       "      <td>Martin &amp; les fées</td>\n",
       "      <td>Perdu d'avance (par Gad Elmaleh)</td>\n",
       "      <td>1</td>\n",
       "      <td>0.246</td>\n",
       "      <td>0.590</td>\n",
       "      <td>0.737</td>\n",
       "      <td>0.000</td>\n",
       "      <td>0.1510</td>\n",
       "      <td>-5.559</td>\n",
       "      <td>0.0868</td>\n",
       "      <td>174.003</td>\n",
       "      <td>0.816</td>\n",
       "    </tr>\n",
       "    <tr>\n",
       "      <th>2</th>\n",
       "      <td>Movie</td>\n",
       "      <td>Joseph Williams</td>\n",
       "      <td>Don't Let Me Be Lonely Tonight</td>\n",
       "      <td>3</td>\n",
       "      <td>0.952</td>\n",
       "      <td>0.663</td>\n",
       "      <td>0.131</td>\n",
       "      <td>0.000</td>\n",
       "      <td>0.1030</td>\n",
       "      <td>-13.879</td>\n",
       "      <td>0.0362</td>\n",
       "      <td>99.488</td>\n",
       "      <td>0.368</td>\n",
       "    </tr>\n",
       "    <tr>\n",
       "      <th>3</th>\n",
       "      <td>Movie</td>\n",
       "      <td>Henri Salvador</td>\n",
       "      <td>Dis-moi Monsieur Gordon Cooper</td>\n",
       "      <td>0</td>\n",
       "      <td>0.703</td>\n",
       "      <td>0.240</td>\n",
       "      <td>0.326</td>\n",
       "      <td>0.000</td>\n",
       "      <td>0.0985</td>\n",
       "      <td>-12.178</td>\n",
       "      <td>0.0395</td>\n",
       "      <td>171.758</td>\n",
       "      <td>0.227</td>\n",
       "    </tr>\n",
       "    <tr>\n",
       "      <th>4</th>\n",
       "      <td>Movie</td>\n",
       "      <td>Fabien Nataf</td>\n",
       "      <td>Ouverture</td>\n",
       "      <td>4</td>\n",
       "      <td>0.950</td>\n",
       "      <td>0.331</td>\n",
       "      <td>0.225</td>\n",
       "      <td>0.123</td>\n",
       "      <td>0.2020</td>\n",
       "      <td>-21.150</td>\n",
       "      <td>0.0456</td>\n",
       "      <td>140.576</td>\n",
       "      <td>0.390</td>\n",
       "    </tr>\n",
       "  </tbody>\n",
       "</table>\n",
       "</div>"
      ],
      "text/plain": [
       "   genre        artist_name                        track_name  popularity  \\\n",
       "0  Movie     Henri Salvador       C'est beau de faire un Show           0   \n",
       "1  Movie  Martin & les fées  Perdu d'avance (par Gad Elmaleh)           1   \n",
       "2  Movie    Joseph Williams    Don't Let Me Be Lonely Tonight           3   \n",
       "3  Movie     Henri Salvador    Dis-moi Monsieur Gordon Cooper           0   \n",
       "4  Movie       Fabien Nataf                         Ouverture           4   \n",
       "\n",
       "   acousticness  danceability  energy  instrumentalness  liveness  loudness  \\\n",
       "0         0.611         0.389   0.910             0.000    0.3460    -1.828   \n",
       "1         0.246         0.590   0.737             0.000    0.1510    -5.559   \n",
       "2         0.952         0.663   0.131             0.000    0.1030   -13.879   \n",
       "3         0.703         0.240   0.326             0.000    0.0985   -12.178   \n",
       "4         0.950         0.331   0.225             0.123    0.2020   -21.150   \n",
       "\n",
       "   speechiness    tempo  valence  \n",
       "0       0.0525  166.969    0.814  \n",
       "1       0.0868  174.003    0.816  \n",
       "2       0.0362   99.488    0.368  \n",
       "3       0.0395  171.758    0.227  \n",
       "4       0.0456  140.576    0.390  "
      ]
     },
     "execution_count": 30,
     "metadata": {},
     "output_type": "execute_result"
    }
   ],
   "source": [
    "df.head()"
   ]
  },
  {
   "cell_type": "code",
   "execution_count": 31,
   "id": "daf6ff8c-a6c3-4fd2-b940-a76b7bd5f7d7",
   "metadata": {},
   "outputs": [],
   "source": [
    "meta_col=['genre','artist_name','track_name']\n",
    "feature_col=['acousticness','danceability','energy','instrumentalness','liveness',\n",
    "             'loudness','speechiness','tempo','valence']\n",
    "df_meta=df[meta_col]\n",
    "df_feature = df[feature_col]"
   ]
  },
  {
   "cell_type": "code",
   "execution_count": 32,
   "id": "32cf8374-bb35-4e54-863c-bd90c1f74741",
   "metadata": {},
   "outputs": [],
   "source": [
    "from sklearn.preprocessing import StandardScaler\n",
    "scaler=StandardScaler()\n",
    "X_scaled=scaler.fit_transform(df_feature)\n"
   ]
  },
  {
   "cell_type": "code",
   "execution_count": 33,
   "id": "9237bf36-78ef-4b52-8732-f9eda2c337f7",
   "metadata": {},
   "outputs": [
    {
     "name": "stdout",
     "output_type": "stream",
     "text": [
      "🎧 Total songs: 232724\n"
     ]
    }
   ],
   "source": [
    "#Step 8: Final check\n",
    "print(\"🎧 Total songs:\", df.shape[0])\n"
   ]
  },
  {
   "cell_type": "code",
   "execution_count": 46,
   "id": "7ba89a5c-edb7-4eff-b09a-de0558cd7c3a",
   "metadata": {},
   "outputs": [],
   "source": [
    "from sklearn.neighbors import NearestNeighbors"
   ]
  },
  {
   "cell_type": "code",
   "execution_count": 84,
   "id": "dd263ab1-f817-4c49-a162-5a3b4d64dd73",
   "metadata": {},
   "outputs": [],
   "source": [
    "def recommend_song(track, artist=None, top=5, filter_genre=True, skip_weird_genres=True):\n",
    "    knn_model = NearestNeighbors(n_neighbors=top + 10, metric='cosine')\n",
    "    knn_model.fit(X_scaled)\n",
    "    if artist:\n",
    "        mask = (\n",
    "            (df_meta['track_name'].str.lower() == track.lower()) &\n",
    "            (df_meta['artist_name'].str.lower() == artist.lower())\n",
    "        )\n",
    "    else:\n",
    "        mask = (df_meta['track_name'].str.lower() == track.lower())\n",
    "\n",
    "    idk_list = df_meta[mask].index.tolist()\n",
    "    if not idk_list:\n",
    "        print(f\"❌ No song named '{track}' was found.\")\n",
    "        return\n",
    "    idk = idk_list[0]\n",
    "    query = X_scaled[idk].reshape(1, -1)\n",
    "    dist, ind = knn_model.kneighbors(query)\n",
    "    original_song = df_meta.iloc[idk]\n",
    "    original_genre = original_song['genre']\n",
    "    print(f\"\\n🎧 Songs similar to '{original_song['track_name']}' by {original_song['artist_name']}:\\n\")\n",
    "    shown = 0\n",
    "    for i in ind[0][1:]:\n",
    "        song = df_meta.iloc[i]\n",
    "        if skip_weird_genres and song['genre'].lower() in ['children’s music', \"children's music\"]:\n",
    "            continue\n",
    "        if filter_genre and song['genre'] != original_genre:\n",
    "            continue\n",
    "        print(f\"✔️ {song['track_name']} — {song['artist_name']} ({song['genre']})\")\n",
    "        shown += 1\n",
    "        if shown >= top:\n",
    "            break\n",
    "    if shown == 0:\n",
    "        print(\" No similar songs found with matching genre. Try turning off filtering.\")"
   ]
  },
  {
   "cell_type": "code",
   "execution_count": 80,
   "id": "3f12a5f6-e6f7-431b-b26b-466d411cb097",
   "metadata": {},
   "outputs": [
    {
     "name": "stdout",
     "output_type": "stream",
     "text": [
      "\n",
      "🎧 Songs similar to 'Perfect' by Ed Sheeran:\n",
      "\n",
      "✔️ HeartLess — Madison Beer (Pop)\n",
      "✔️ Goner — Twenty One Pilots (Pop)\n"
     ]
    }
   ],
   "source": [
    "recommend_song('perfect','ed sheeran')"
   ]
  },
  {
   "cell_type": "code",
   "execution_count": 81,
   "id": "fe4e725d-44bc-420c-8327-e83a9b620fad",
   "metadata": {},
   "outputs": [
    {
     "name": "stdout",
     "output_type": "stream",
     "text": [
      "\n",
      "🎧 Songs similar to 'HeartLess' by Madison Beer:\n",
      "\n",
      "✔️ HeartLess — Madison Beer (Dance)\n",
      "✔️ Teardrops On My Guitar - Radio Single Remix — Taylor Swift (Dance)\n",
      "✔️ SHE DON'T LOVE ME — ZAYN (Dance)\n"
     ]
    }
   ],
   "source": [
    "recommend_song('Heartless','madison beer')"
   ]
  },
  {
   "cell_type": "code",
   "execution_count": 82,
   "id": "4a84c6a8-9942-4d11-a216-487f4d8e6ca6",
   "metadata": {},
   "outputs": [
    {
     "name": "stdout",
     "output_type": "stream",
     "text": [
      "\n",
      "🎧 Songs similar to 'Teardrops On My Guitar - Radio Single Remix' by Taylor Swift:\n",
      "\n",
      "✔️ (Another Song) All Over Again — Justin Timberlake (Dance)\n",
      "✔️ HeartLess — Madison Beer (Dance)\n",
      "✔️ Na Na — Trey Songz (Dance)\n"
     ]
    }
   ],
   "source": [
    "recommend_song('Teardrops On My Guitar - Radio Single Remix','Taylor Swift')"
   ]
  },
  {
   "cell_type": "code",
   "execution_count": null,
   "id": "ebcea137-50ed-40da-abc5-058820c09692",
   "metadata": {},
   "outputs": [],
   "source": []
  }
 ],
 "metadata": {
  "kernelspec": {
   "display_name": "Python (venv-numpy)",
   "language": "python",
   "name": "numpy"
  },
  "language_info": {
   "codemirror_mode": {
    "name": "ipython",
    "version": 3
   },
   "file_extension": ".py",
   "mimetype": "text/x-python",
   "name": "python",
   "nbconvert_exporter": "python",
   "pygments_lexer": "ipython3",
   "version": "3.12.3"
  }
 },
 "nbformat": 4,
 "nbformat_minor": 5
}
